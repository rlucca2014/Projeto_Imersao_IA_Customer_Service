{
  "nbformat": 4,
  "nbformat_minor": 0,
  "metadata": {
    "colab": {
      "provenance": [],
      "authorship_tag": "ABX9TyOe1wzH69pZTdN3ftQsakHQ",
      "include_colab_link": true
    },
    "kernelspec": {
      "name": "python3",
      "display_name": "Python 3"
    },
    "language_info": {
      "name": "python"
    }
  },
  "cells": [
    {
      "cell_type": "markdown",
      "metadata": {
        "id": "view-in-github",
        "colab_type": "text"
      },
      "source": [
        "<a href=\"https://colab.research.google.com/github/rlucca2014/Projeto_Imersao_IA_Customer_Service/blob/main/Projeto_Imersao_IA_Customer_Service.ipynb\" target=\"_parent\"><img src=\"https://colab.research.google.com/assets/colab-badge.svg\" alt=\"Open In Colab\"/></a>"
      ]
    },
    {
      "cell_type": "markdown",
      "source": [
        "#Installing Google's SDK"
      ],
      "metadata": {
        "id": "tmN53KC3OUlC"
      }
    },
    {
      "cell_type": "code",
      "execution_count": 2,
      "metadata": {
        "id": "4R47Y7eASAPg"
      },
      "outputs": [],
      "source": [
        "!pip install -q -U google-generativeai"
      ]
    },
    {
      "cell_type": "code",
      "source": [],
      "metadata": {
        "id": "PIVsFwkORIcm"
      },
      "execution_count": 8,
      "outputs": []
    },
    {
      "cell_type": "code",
      "source": [
        "# Este codigo foi desenvolvido para interpretar arquivo de audio de um representante de vendas\n",
        "#Solicitando determinado produto, quantidade data de entrega e local de entrega\n",
        "# O Objetivo desse projeto é Provar o Conceito de que é possível interpretar\n",
        "# solicitações de produtos por clientes para área de Customer Service sendo como objetivo final a criação de um pedido de vendas seja no CRM Sales Force\n",
        "# Ou em algum ERP como SAP.\n",
        "\n",
        "from pathlib import Path\n",
        "import hashlib\n",
        "import google.generativeai as genai\n",
        "from google.colab import userdata\n",
        "api_key = userdata.get('API_KEY')\n",
        "genai.configure(api_key=api_key)\n",
        "\n",
        "# Set up the model\n",
        "generation_config = {\n",
        "  \"temperature\": 1,\n",
        "  \"top_p\": 0.95,\n",
        "  \"top_k\": 0,\n",
        "  \"max_output_tokens\": 8192,\n",
        "}\n",
        "\n",
        "safety_settings = [\n",
        "  {\n",
        "    \"category\": \"HARM_CATEGORY_HARASSMENT\",\n",
        "    \"threshold\": \"BLOCK_MEDIUM_AND_ABOVE\"\n",
        "  },\n",
        "  {\n",
        "    \"category\": \"HARM_CATEGORY_HATE_SPEECH\",\n",
        "    \"threshold\": \"BLOCK_MEDIUM_AND_ABOVE\"\n",
        "  },\n",
        "  {\n",
        "    \"category\": \"HARM_CATEGORY_SEXUALLY_EXPLICIT\",\n",
        "    \"threshold\": \"BLOCK_MEDIUM_AND_ABOVE\"\n",
        "  },\n",
        "  {\n",
        "    \"category\": \"HARM_CATEGORY_DANGEROUS_CONTENT\",\n",
        "    \"threshold\": \"BLOCK_MEDIUM_AND_ABOVE\"\n",
        "  },\n",
        "]\n",
        "\n",
        "model = genai.GenerativeModel(model_name=\"gemini-1.5-pro-latest\",\n",
        "                              generation_config=generation_config,\n",
        "                              safety_settings=safety_settings)\n",
        "\n",
        "convo = model.start_chat(history=[\n",
        "  {\n",
        "    \"role\": \"user\",\n",
        "    \"parts\": [genai.upload_file(\"/content/Gravacao.m4a\")]\n",
        "  },\n",
        "  {\n",
        "    \"role\": \"user\",\n",
        "    \"parts\": [\"Extrair qual o produto que quero comprar, a quantidade, as datas de entregas e o local de entrega, o resultado pode ser em estrutura de tabela.\"]\n",
        "  },\n",
        "  {\n",
        "    \"role\": \"model\",\n",
        "    \"parts\": [\"## Detalhes do Pedido\\n\\n| Produto          | Quantidade | Data de Entrega | Local de Entrega  |\\n|-----------------|------------|-----------------|-------------------|\\n| Barras de Chocolate | 200        | 20 de Maio      | Sua Residência   |\\n| Barras de Chocolate | 100        | 30 de Maio      | Residência dos Pais |\"]\n",
        "  },\n",
        "  {\n",
        "    \"role\": \"user\",\n",
        "    \"parts\": [\"vc tem certeza que a quantidade da minha residencia esta correta\"]\n",
        "  },\n",
        "  {\n",
        "    \"role\": \"model\",\n",
        "    \"parts\": [\"Peço desculpas, houve um erro na interpretação da quantidade para sua residência. Serão 100 barras de chocolate para sua residência no dia 20 de maio e 100 barras de chocolate para a residência de seus pais no dia 30 de maio.\"]\n",
        "  },\n",
        "  {\n",
        "    \"role\": \"user\",\n",
        "    \"parts\": [\"gerar a tabela novamente\"]\n",
        "  },\n",
        "  {\n",
        "    \"role\": \"model\",\n",
        "    \"parts\": [\"## Detalhes do Pedido Atualizado\\n\\n| Produto          | Quantidade | Data de Entrega | Local de Entrega  |\\n|-----------------|------------|-----------------|-------------------|\\n| Barras de Chocolate | 100        | 20 de Maio      | Sua Residência   |\\n| Barras de Chocolate | 100        | 30 de Maio      | Residência dos Pais |\"]\n",
        "  },\n",
        "])\n",
        "\n",
        "convo.send_message(\"Extrair qual o produto que quero comprar, a quantidade, as datas de entregas e o local de entrega, o resultado pode ser em estrutura de tabela\")\n",
        "print(convo.last.text)"
      ],
      "metadata": {
        "colab": {
          "base_uri": "https://localhost:8080/",
          "height": 139
        },
        "id": "JIqcZ8NdRen5",
        "outputId": "367c0cb8-0484-4b6f-f52a-057d4de68bd6"
      },
      "execution_count": 13,
      "outputs": [
        {
          "output_type": "stream",
          "name": "stdout",
          "text": [
            "## Detalhes do Pedido\n",
            "\n",
            "| Produto          | Quantidade | Data de Entrega | Local de Entrega  |\n",
            "|-----------------|------------|-----------------|-------------------|\n",
            "| Barras de Chocolate | 100        | 20 de Maio      | Sua Residência   |\n",
            "| Barras de Chocolate | 100        | 30 de Maio      | Residência dos Pais | \n",
            "\n"
          ]
        }
      ]
    }
  ]
}